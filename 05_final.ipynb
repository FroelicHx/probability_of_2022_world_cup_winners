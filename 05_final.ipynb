{
 "cells": [
  {
   "cell_type": "code",
   "execution_count": 16,
   "metadata": {},
   "outputs": [],
   "source": [
    "import pandas as pd\n",
    "import numpy as np\n",
    "import seaborn as sns\n",
    "import matplotlib.pyplot as plt\n",
    "\n",
    "import os"
   ]
  },
  {
   "cell_type": "code",
   "execution_count": 17,
   "metadata": {},
   "outputs": [
    {
     "data": {
      "text/html": [
       "<div>\n",
       "<style scoped>\n",
       "    .dataframe tbody tr th:only-of-type {\n",
       "        vertical-align: middle;\n",
       "    }\n",
       "\n",
       "    .dataframe tbody tr th {\n",
       "        vertical-align: top;\n",
       "    }\n",
       "\n",
       "    .dataframe thead th {\n",
       "        text-align: right;\n",
       "    }\n",
       "</style>\n",
       "<table border=\"1\" class=\"dataframe\">\n",
       "  <thead>\n",
       "    <tr style=\"text-align: right;\">\n",
       "      <th></th>\n",
       "      <th>date</th>\n",
       "      <th>home_team</th>\n",
       "      <th>away_team</th>\n",
       "      <th>home_team_score</th>\n",
       "      <th>away_team_score</th>\n",
       "      <th>winner</th>\n",
       "    </tr>\n",
       "  </thead>\n",
       "  <tbody>\n",
       "    <tr>\n",
       "      <th>0</th>\n",
       "      <td>1993-11-17</td>\n",
       "      <td>Argentina</td>\n",
       "      <td>Australia</td>\n",
       "      <td>1</td>\n",
       "      <td>0</td>\n",
       "      <td>Argentina</td>\n",
       "    </tr>\n",
       "    <tr>\n",
       "      <th>1</th>\n",
       "      <td>1994-04-20</td>\n",
       "      <td>Argentina</td>\n",
       "      <td>Morocco</td>\n",
       "      <td>3</td>\n",
       "      <td>1</td>\n",
       "      <td>Argentina</td>\n",
       "    </tr>\n",
       "    <tr>\n",
       "      <th>2</th>\n",
       "      <td>1994-05-26</td>\n",
       "      <td>Australia</td>\n",
       "      <td>France</td>\n",
       "      <td>0</td>\n",
       "      <td>1</td>\n",
       "      <td>France</td>\n",
       "    </tr>\n",
       "    <tr>\n",
       "      <th>3</th>\n",
       "      <td>1994-05-29</td>\n",
       "      <td>Japan</td>\n",
       "      <td>France</td>\n",
       "      <td>1</td>\n",
       "      <td>4</td>\n",
       "      <td>France</td>\n",
       "    </tr>\n",
       "    <tr>\n",
       "      <th>4</th>\n",
       "      <td>1995-01-08</td>\n",
       "      <td>Japan</td>\n",
       "      <td>Argentina</td>\n",
       "      <td>1</td>\n",
       "      <td>5</td>\n",
       "      <td>Argentina</td>\n",
       "    </tr>\n",
       "  </tbody>\n",
       "</table>\n",
       "</div>"
      ],
      "text/plain": [
       "         date  home_team  away_team  home_team_score  away_team_score  \\\n",
       "0  1993-11-17  Argentina  Australia                1                0   \n",
       "1  1994-04-20  Argentina    Morocco                3                1   \n",
       "2  1994-05-26  Australia     France                0                1   \n",
       "3  1994-05-29      Japan     France                1                4   \n",
       "4  1995-01-08      Japan  Argentina                1                5   \n",
       "\n",
       "      winner  \n",
       "0  Argentina  \n",
       "1  Argentina  \n",
       "2     France  \n",
       "3     France  \n",
       "4  Argentina  "
      ]
     },
     "execution_count": 17,
     "metadata": {},
     "output_type": "execute_result"
    }
   ],
   "source": [
    "df_intermediate_2 = pd.read_csv('./data/02_intermediate/df_intermediate_2.csv')\n",
    "\n",
    "df_intermediate_2.head()"
   ]
  },
  {
   "cell_type": "code",
   "execution_count": 18,
   "metadata": {},
   "outputs": [
    {
     "name": "stdout",
     "output_type": "stream",
     "text": [
      "<class 'pandas.core.frame.DataFrame'>\n",
      "RangeIndex: 88 entries, 0 to 87\n",
      "Data columns (total 6 columns):\n",
      " #   Column           Non-Null Count  Dtype \n",
      "---  ------           --------------  ----- \n",
      " 0   date             88 non-null     object\n",
      " 1   home_team        88 non-null     object\n",
      " 2   away_team        88 non-null     object\n",
      " 3   home_team_score  88 non-null     int64 \n",
      " 4   away_team_score  88 non-null     int64 \n",
      " 5   winner           88 non-null     object\n",
      "dtypes: int64(2), object(4)\n",
      "memory usage: 4.2+ KB\n"
     ]
    }
   ],
   "source": [
    "df_intermediate_2.info()"
   ]
  },
  {
   "cell_type": "code",
   "execution_count": 19,
   "metadata": {},
   "outputs": [
    {
     "name": "stderr",
     "output_type": "stream",
     "text": [
      "C:\\Users\\user\\AppData\\Local\\Temp\\ipykernel_15708\\434203416.py:23: MatplotlibDeprecationWarning: The 'b' parameter of grid() has been renamed 'visible' since Matplotlib 3.5; support for the old name will be dropped two minor releases later.\n",
      "  ax.grid(b = True, color ='grey',\n"
     ]
    },
    {
     "data": {
      "image/png": "[encoded data removed]",
      "text/plain": [
       "<Figure size 1152x648 with 1 Axes>"
      ]
     },
     "metadata": {
      "needs_background": "light"
     },
     "output_type": "display_data"
    }
   ],
   "source": [
    "team_name = df_intermediate_2.winner.value_counts().index\n",
    "winner_count = df_intermediate_2.winner.value_counts().values\n",
    "\n",
    "# Figure Size\n",
    "fig, ax = plt.subplots(figsize =(16, 9))\n",
    "\n",
    "# Horizontal Bar Plot\n",
    "ax.barh(team_name, winner_count)\n",
    "\n",
    "# Remove axes splines\n",
    "for s in ['top', 'bottom', 'left', 'right']:\n",
    "    ax.spines[s].set_visible(False)\n",
    "\n",
    "# Remove x, y Ticks\n",
    "ax.xaxis.set_ticks_position('none')\n",
    "ax.yaxis.set_ticks_position('none')\n",
    "\n",
    "# Add padding between axes and labels\n",
    "ax.xaxis.set_tick_params(pad = 5)\n",
    "ax.yaxis.set_tick_params(pad = 10)\n",
    "\n",
    "# Add x, y gridlines\n",
    "ax.grid(b = True, color ='grey',\n",
    "        linestyle ='-.', linewidth = 0.5,\n",
    "        alpha = 0.2)\n",
    "\n",
    "# Show top values\n",
    "ax.invert_yaxis()\n",
    "\n",
    "# Add annotation to bars\n",
    "for i in ax.patches:\n",
    "    plt.text(i.get_width()+0.2, i.get_y()+0.5,\n",
    "             str(round((i.get_width()), 2)),\n",
    "             fontsize = 10, fontweight ='bold',\n",
    "             color ='grey')\n",
    " \n",
    "# Add Plot Title\n",
    "ax.set_title('Soccers Teams and yours counts winners (1993 - 2022)',\n",
    "             loc ='left', )\n",
    " \n",
    "# Show Plot\n",
    "plt.show()"
   ]
  },
  {
   "cell_type": "code",
   "execution_count": 20,
   "metadata": {},
   "outputs": [
    {
     "data": {
      "text/html": [
       "<div>\n",
       "<style scoped>\n",
       "    .dataframe tbody tr th:only-of-type {\n",
       "        vertical-align: middle;\n",
       "    }\n",
       "\n",
       "    .dataframe tbody tr th {\n",
       "        vertical-align: top;\n",
       "    }\n",
       "\n",
       "    .dataframe thead th {\n",
       "        text-align: right;\n",
       "    }\n",
       "</style>\n",
       "<table border=\"1\" class=\"dataframe\">\n",
       "  <thead>\n",
       "    <tr style=\"text-align: right;\">\n",
       "      <th></th>\n",
       "      <th>teams</th>\n",
       "      <th>percent_winners</th>\n",
       "      <th>percent_winners_8</th>\n",
       "      <th>percent_winners_4</th>\n",
       "      <th>percent_winners_2</th>\n",
       "    </tr>\n",
       "  </thead>\n",
       "  <tbody>\n",
       "    <tr>\n",
       "      <th>0</th>\n",
       "      <td>France</td>\n",
       "      <td>1.246294</td>\n",
       "      <td>12.149533</td>\n",
       "      <td>17.808219</td>\n",
       "      <td>42.975207</td>\n",
       "    </tr>\n",
       "    <tr>\n",
       "      <th>1</th>\n",
       "      <td>Argentina</td>\n",
       "      <td>1.163940</td>\n",
       "      <td>8.411215</td>\n",
       "      <td>12.328767</td>\n",
       "      <td>29.752066</td>\n",
       "    </tr>\n",
       "  </tbody>\n",
       "</table>\n",
       "</div>"
      ],
      "text/plain": [
       "       teams  percent_winners  percent_winners_8  percent_winners_4  \\\n",
       "0     France         1.246294          12.149533          17.808219   \n",
       "1  Argentina         1.163940           8.411215          12.328767   \n",
       "\n",
       "   percent_winners_2  \n",
       "0          42.975207  \n",
       "1          29.752066  "
      ]
     },
     "execution_count": 20,
     "metadata": {},
     "output_type": "execute_result"
    }
   ],
   "source": [
    "# adding strongest percentage column based on round of semifinal\n",
    "winners_percent = (df_intermediate_2.winner.value_counts()/df_intermediate_2.shape[0])*100\n",
    "\n",
    "df_model_input = pd.read_csv('./data/03_model_input/df_model_input_2.csv')\n",
    "\n",
    "teams=['Argentina','France']\n",
    "df_model_input = df_model_input[df_model_input['teams'].isin(teams)]\n",
    "\n",
    "df_model_input"
   ]
  },
  {
   "cell_type": "code",
   "execution_count": 21,
   "metadata": {},
   "outputs": [
    {
     "data": {
      "text/html": [
       "<div>\n",
       "<style scoped>\n",
       "    .dataframe tbody tr th:only-of-type {\n",
       "        vertical-align: middle;\n",
       "    }\n",
       "\n",
       "    .dataframe tbody tr th {\n",
       "        vertical-align: top;\n",
       "    }\n",
       "\n",
       "    .dataframe thead th {\n",
       "        text-align: right;\n",
       "    }\n",
       "</style>\n",
       "<table border=\"1\" class=\"dataframe\">\n",
       "  <thead>\n",
       "    <tr style=\"text-align: right;\">\n",
       "      <th></th>\n",
       "      <th>teams</th>\n",
       "      <th>percent_winners</th>\n",
       "      <th>percent_winners_8</th>\n",
       "      <th>percent_winners_4</th>\n",
       "      <th>percent_winners_2</th>\n",
       "      <th>percent_winners_final</th>\n",
       "    </tr>\n",
       "  </thead>\n",
       "  <tbody>\n",
       "    <tr>\n",
       "      <th>0</th>\n",
       "      <td>France</td>\n",
       "      <td>1.246294</td>\n",
       "      <td>12.149533</td>\n",
       "      <td>17.808219</td>\n",
       "      <td>42.975207</td>\n",
       "      <td>59.090909</td>\n",
       "    </tr>\n",
       "    <tr>\n",
       "      <th>1</th>\n",
       "      <td>Argentina</td>\n",
       "      <td>1.163940</td>\n",
       "      <td>8.411215</td>\n",
       "      <td>12.328767</td>\n",
       "      <td>29.752066</td>\n",
       "      <td>40.909091</td>\n",
       "    </tr>\n",
       "  </tbody>\n",
       "</table>\n",
       "</div>"
      ],
      "text/plain": [
       "       teams  percent_winners  percent_winners_8  percent_winners_4  \\\n",
       "0     France         1.246294          12.149533          17.808219   \n",
       "1  Argentina         1.163940           8.411215          12.328767   \n",
       "\n",
       "   percent_winners_2  percent_winners_final  \n",
       "0          42.975207              59.090909  \n",
       "1          29.752066              40.909091  "
      ]
     },
     "execution_count": 21,
     "metadata": {},
     "output_type": "execute_result"
    }
   ],
   "source": [
    "# adding column of percentage of the strongest based on the classified for final\n",
    "winners_percent_index = list(winners_percent.index)\n",
    "winners_percent_values = list(winners_percent.values)\n",
    "\n",
    "for i in range(len(winners_percent_index)):\n",
    "    df_model_input.loc[df_model_input.teams == winners_percent_index[i], 'percent_winners_final'] = winners_percent_values[i]\n",
    "\n",
    "df_model_input"
   ]
  },
  {
   "cell_type": "code",
   "execution_count": 22,
   "metadata": {},
   "outputs": [],
   "source": [
    "outname = 'df_model_input_final.csv'\n",
    "\n",
    "outdir = './data/03_model_input'\n",
    "\n",
    "if not os.path.exists(outdir):\n",
    "    os.mkdir(outdir)\n",
    "\n",
    "fullname = os.path.join(outdir,outname)\n",
    "\n",
    "df_model_input.to_csv(fullname, index=False)"
   ]
  },
  {
   "cell_type": "code",
   "execution_count": 23,
   "metadata": {},
   "outputs": [],
   "source": [
    "# final games\n",
    "teams_4 = [['Argentina','France']]"
   ]
  },
  {
   "cell_type": "code",
   "execution_count": 24,
   "metadata": {},
   "outputs": [
    {
     "name": "stdout",
     "output_type": "stream",
     "text": [
      "Argentina x France\n"
     ]
    },
    {
     "data": {
      "text/html": [
       "<div>\n",
       "<style scoped>\n",
       "    .dataframe tbody tr th:only-of-type {\n",
       "        vertical-align: middle;\n",
       "    }\n",
       "\n",
       "    .dataframe tbody tr th {\n",
       "        vertical-align: top;\n",
       "    }\n",
       "\n",
       "    .dataframe thead th {\n",
       "        text-align: right;\n",
       "    }\n",
       "</style>\n",
       "<table border=\"1\" class=\"dataframe\">\n",
       "  <thead>\n",
       "    <tr style=\"text-align: right;\">\n",
       "      <th></th>\n",
       "      <th>teams</th>\n",
       "      <th>percent_winners</th>\n",
       "      <th>percent_winners_8</th>\n",
       "      <th>percent_winners_4</th>\n",
       "      <th>percent_winners_2</th>\n",
       "      <th>percent_winners_final</th>\n",
       "    </tr>\n",
       "  </thead>\n",
       "  <tbody>\n",
       "    <tr>\n",
       "      <th>0</th>\n",
       "      <td>France</td>\n",
       "      <td>1.246294</td>\n",
       "      <td>12.149533</td>\n",
       "      <td>17.808219</td>\n",
       "      <td>42.975207</td>\n",
       "      <td>59.090909</td>\n",
       "    </tr>\n",
       "    <tr>\n",
       "      <th>1</th>\n",
       "      <td>Argentina</td>\n",
       "      <td>1.163940</td>\n",
       "      <td>8.411215</td>\n",
       "      <td>12.328767</td>\n",
       "      <td>29.752066</td>\n",
       "      <td>40.909091</td>\n",
       "    </tr>\n",
       "  </tbody>\n",
       "</table>\n",
       "</div>"
      ],
      "text/plain": [
       "       teams  percent_winners  percent_winners_8  percent_winners_4  \\\n",
       "0     France         1.246294          12.149533          17.808219   \n",
       "1  Argentina         1.163940           8.411215          12.328767   \n",
       "\n",
       "   percent_winners_2  percent_winners_final  \n",
       "0          42.975207              59.090909  \n",
       "1          29.752066              40.909091  "
      ]
     },
     "metadata": {},
     "output_type": "display_data"
    }
   ],
   "source": [
    "# plotting percentage of teams\n",
    "for i in range(len(teams_4)):\n",
    "    df_isin = df_model_input.copy()\n",
    "\n",
    "    print(f'{teams_4[i][0]} x {teams_4[i][1]}')\n",
    "    df_isin=df_isin[df_isin['teams'].isin(teams_4[i])]\n",
    "    display(df_isin)"
   ]
  }
 ],
 "metadata": {
  "kernelspec": {
   "display_name": "Python 3.10.5 64-bit",
   "language": "python",
   "name": "python3"
  },
  "language_info": {
   "codemirror_mode": {
    "name": "ipython",
    "version": 3
   },
   "file_extension": ".py",
   "mimetype": "text/x-python",
   "name": "python",
   "nbconvert_exporter": "python",
   "pygments_lexer": "ipython3",
   "version": "3.10.5 (tags/v3.10.5:f377153, Jun  6 2022, 16:14:13) [MSC v.1929 64 bit (AMD64)]"
  },
  "orig_nbformat": 4,
  "vscode": {
   "interpreter": {
    "hash": "fb4569285eef3a3450cb62085a5b1e0da4bce0af555edc33dcf29baf3acc1368"
   }
  }
 },
 "nbformat": 4,
 "nbformat_minor": 2
}
